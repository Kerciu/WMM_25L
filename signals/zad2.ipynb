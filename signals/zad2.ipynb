{
 "cells": [
  {
   "cell_type": "markdown",
   "metadata": {},
   "source": [
    "Zbadać wpływ przesunięcia w czasie na postać widma amplitudowego i widma fazowego dyskretnego\n",
    "sygnału harmonicznego 𝑠[𝑛] = 𝐴 𝑠𝑖𝑛 (2𝜋𝑛 / 𝑁) o amplitudzie 𝐴 = 4 i okresie podstawowym 𝑁 = 52.\n",
    "W tym celu dla każdej wartości 𝑛0 ∈ {0, 𝑁/4, 𝑁/2, 3𝑁/4} \n",
    "wykreślić widmo amplitudowe i fazowe przesuniętego sygnału 𝑠[𝑛 − 𝑛0].\n",
    "Skomentować otrzymane wyniki."
   ]
  }
 ],
 "metadata": {
  "language_info": {
   "name": "python"
  }
 },
 "nbformat": 4,
 "nbformat_minor": 2
}
