{
 "cells": [
  {
   "cell_type": "markdown",
   "metadata": {},
   "source": [
    "Zbadać wpływ dopełnienia zerami na postać widma amplitudowego i widma fazowego dyskretnego\n",
    "sygnału 𝑠[𝑛] = 𝐴 (𝑛 𝑚𝑜𝑑 𝑁) / 𝑁 o amplitudzie 𝐴 = 3 i okresie podstawowym 𝑁 = 11. W tym celu dla każdej\n",
    "wartości 𝑁0 ∈ {0,1/𝑁, 4/𝑁, 9/𝑁} wykreślić widmo amplitudowe i fazowe sygnału 𝑠[𝑛] dopełnionego 𝑁0\n",
    "zerami. Skomentować otrzymane wyniki"
   ]
  }
 ],
 "metadata": {
  "language_info": {
   "name": "python"
  }
 },
 "nbformat": 4,
 "nbformat_minor": 2
}
