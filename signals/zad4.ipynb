{
 "cells": [
  {
   "cell_type": "markdown",
   "metadata": {},
   "source": [
    "Dany jest sygnał rzeczywisty 𝑠(𝑡) = 𝐴1 𝑠𝑖𝑛(2𝜋𝑓1𝑡) + 𝐴2 𝑠𝑖𝑛(2𝜋𝑓2𝑡) + 𝐴3 𝑠𝑖𝑛(2𝜋𝑓3𝑡) , gdzie 𝐴1 =\n",
    "0.3 , 𝑓1 = 5000 Hz, 𝐴2 = 0.4 , 𝑓2 = 6000 Hz, 𝐴3 = 0.5 , 𝑓3 = 11000 Hz. Przy założeniu, że\n",
    "częstotliwość próbkowania wynosi 𝑓𝑠 = 48000 Hz, a liczba próbek sygnału wynosi 𝑁1 = 2048 ,\n",
    "przedstawić wykres widmowej gęstości mocy sygnału spróbkowanego. Czy dla podanej liczby próbek\n",
    "mamy do czynienia ze zjawiskiem przecieku widma? Czy sytuacja uległaby zmianie dla liczby próbek\n",
    "𝑁2 = (3/2) * 𝑁1? Odpowiedź uzasadnić."
   ]
  }
 ],
 "metadata": {
  "language_info": {
   "name": "python"
  }
 },
 "nbformat": 4,
 "nbformat_minor": 2
}
