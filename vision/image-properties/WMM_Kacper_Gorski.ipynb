{
 "cells": [
  {
   "cell_type": "markdown",
   "id": "c49a2276",
   "metadata": {},
   "source": [
    "# Wstęp do multimediów (WMM)\n",
    "### Kacper Górski, 331379\n"
   ]
  },
  {
   "cell_type": "code",
   "execution_count": null,
   "id": "70091d47",
   "metadata": {},
   "outputs": [],
   "source": [
    "from matplotlib import pyplot as plt\n",
    "from IPython.display import display, Markdown\n",
    "import cv2\n",
    "import numpy as np\n",
    "import copy"
   ]
  },
  {
   "cell_type": "code",
   "execution_count": 1,
   "id": "01fb75e8",
   "metadata": {},
   "outputs": [
    {
     "name": "stdout",
     "output_type": "stream",
     "text": [
      "Image number to process:  35\n",
      "Image: \"susie_mono.png\"\n"
     ]
    }
   ],
   "source": [
    "NUM_IMAGES = 36\n",
    "INDEX_NUMBER = 331379\n",
    "\n",
    "print(\"Image number to process: \", INDEX_NUMBER % NUM_IMAGES)\n",
    "print(\"Image: \\\"susie_mono.png\\\"\")"
   ]
  }
 ],
 "metadata": {
  "kernelspec": {
   "display_name": "Python 3",
   "language": "python",
   "name": "python3"
  },
  "language_info": {
   "codemirror_mode": {
    "name": "ipython",
    "version": 3
   },
   "file_extension": ".py",
   "mimetype": "text/x-python",
   "name": "python",
   "nbconvert_exporter": "python",
   "pygments_lexer": "ipython3",
   "version": "3.12.6"
  }
 },
 "nbformat": 4,
 "nbformat_minor": 5
}
