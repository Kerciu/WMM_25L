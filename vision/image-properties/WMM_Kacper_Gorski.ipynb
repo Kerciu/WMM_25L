{
 "cells": [
  {
   "cell_type": "markdown",
   "id": "c49a2276",
   "metadata": {},
   "source": [
    "# Wstęp do multimediów (WMM)\n",
    "### Kacper Górski, 331379\n"
   ]
  },
  {
   "cell_type": "code",
   "execution_count": null,
   "id": "70091d47",
   "metadata": {},
   "outputs": [
    {
     "name": "stdout",
     "output_type": "stream",
     "text": [
      "Current working directory: c:\\Users\\Kacper\\Desktop\\WMM_25L\\vision\\image-properties\n",
      "Image path: image-properties\\monochrome\\susie_mono.png\n"
     ]
    }
   ],
   "source": [
    "from matplotlib import pyplot as plt\n",
    "from IPython.display import display, Markdown\n",
    "import cv2\n",
    "import numpy as np\n",
    "import copy\n",
    "from wlasciwosci_obrazow import *\n",
    "import os"
   ]
  },
  {
   "cell_type": "code",
   "execution_count": null,
   "id": "01fb75e8",
   "metadata": {},
   "outputs": [
    {
     "name": "stdout",
     "output_type": "stream",
     "text": [
      "Image index to process:  35\n",
      "[[128 128 128 ... 128 128 128]\n",
      " [ 92  93  93 ...  16  16  16]\n",
      " [ 89  93  94 ...  16  16  16]\n",
      " ...\n",
      " [169 173 172 ...  16  16  16]\n",
      " [171 173 171 ...  16  16  16]\n",
      " [169 172 170 ...  16  16  16]]\n",
      "image, wymiary: (480, 720), typ danych: uint8, wartości: 15 - 253\n"
     ]
    }
   ],
   "source": [
    "NUM_IMAGES = 36\n",
    "STUDENT_INDEX = 331379\n",
    "\n",
    "def image_to_process(student_index, num_images):\n",
    "    return student_index % num_images\n",
    "\n",
    "print(\"Image index to process: \", image_to_process(STUDENT_INDEX, NUM_IMAGES))\n",
    "\n",
    " = os.path.join(os.getcwd(), \"monochrome\", \"susie_mono.png\")\n",
    "\n",
    "image = cv2.imread(IMAGE_PATH, cv2.IMREAD_UNCHANGED)\n",
    "print(image)\n",
    "printi(image, \"image\")"
   ]
  },
  {
   "cell_type": "markdown",
   "id": "f6486bdf",
   "metadata": {},
   "source": [
    "### Obraz do przetworzenia -> susie_col.png (index: 35)"
   ]
  },
  {
   "cell_type": "markdown",
   "id": "2cd25a61",
   "metadata": {},
   "source": [
    "## Dla obrazu monochromatycznego: \n",
    "➢ Obliczyć entropię obrazu wejściowego.   \n",
    "➢ Wyznaczyć obraz różnicowy w taki sposób, że wartość każdego piksela zastępowana jest różnicą \n",
    "pomiędzy wartością tego piksela a wartością jego lewego sąsiada (kodowanie różnicowe /. \n",
    "predykcyjne). Dla pierwszego piksela w linii należy przyjąć wartość sąsiada równą 127 (środkowa \n",
    "wartość przedziału zmienności wartości pikseli).     \n",
    "Wyświetlić obraz różnicowy.     \n",
    "Wyznaczyć histogram obrazu różnicowego i porównać go z histogramem obrazu oryginalnego.   \n",
    "Wyznaczyć entropię obrazu różnicowego i porównać ją z entropią obrazu oryginalnego.   \n",
    "Uwaga: należy pamiętać, że wartości pikseli w obrazie różnicowym są z zakresu [-255; 255]!   \n",
    "➢ Wyznaczyć współczynniki DWT korzystając z funkcji zamieszczonej w przykładowym skrypcie.  \n",
    "Wyświetlić poszczególne pasma.   \n",
    "Wyznaczyć histogramy i obliczyć entropię dla wszystkich pasm.   \n",
    "Porównać wyniki (histogram, entropia) uzyskane dla poszczególnych pasm między sobą (czy któreś \n",
    "się wyróżniają i dlaczego?) oraz z wynikami uzyskanymi dla obrazu oryginalnego i obrazu \n",
    "różnicowego.    \n",
    "Uwaga: należy pamiętać, że wartości w pasmach LH, HL i HH są z zakresu [-255, 255]!    \n",
    "➢ Obliczyć przepływność (liczbę bitów przypadającą na jeden piksel) dla obrazu skompresowanego \n",
    "koderem PNG (obraz wejściowy) i porównać ją z obliczonymi uprzednio entropiami obrazu \n",
    "oryginalnego, różnicowego i falokowego. Czy przepływność mniejsza od entropii oznacza, że \n",
    "zależność: lśr ≥ H jest nieprawdziwa?"
   ]
  }
 ],
 "metadata": {
  "kernelspec": {
   "display_name": "Python 3",
   "language": "python",
   "name": "python3"
  },
  "language_info": {
   "codemirror_mode": {
    "name": "ipython",
    "version": 3
   },
   "file_extension": ".py",
   "mimetype": "text/x-python",
   "name": "python",
   "nbconvert_exporter": "python",
   "pygments_lexer": "ipython3",
   "version": "3.12.6"
  }
 },
 "nbformat": 4,
 "nbformat_minor": 5
}
